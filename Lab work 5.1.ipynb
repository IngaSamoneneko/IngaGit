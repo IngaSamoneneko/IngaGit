{
 "cells": [
  {
   "cell_type": "markdown",
   "metadata": {},
   "source": [
    "___\n",
    "\n",
    "<a href='https://mainacademy.ua/'> <img src='https://mainacademy.ua/wp-content/uploads/2019/03/logo-main.png' alt = 'Хмм, щось з інтернетом'/></a>\n",
    "___\n",
    "\n",
    "# Module 5: Data analysis with NumPy and Pandas"
   ]
  },
  {
   "cell_type": "markdown",
   "metadata": {},
   "source": [
    "## Lab work 5.1\n",
    "\n"
   ]
  },
  {
   "cell_type": "markdown",
   "metadata": {},
   "source": [
    "#### Мета: \n",
    "\n",
    "* навчитися працювати із бібліотекою NumPy в Python"
   ]
  },
  {
   "cell_type": "markdown",
   "metadata": {},
   "source": [
    "### Завдання:"
   ]
  },
  {
   "cell_type": "code",
   "execution_count": 6,
   "metadata": {},
   "outputs": [],
   "source": [
    "import numpy as np"
   ]
  },
  {
   "cell_type": "markdown",
   "metadata": {},
   "source": [
    "Вивести версію та конфігурацію бібліотеки:"
   ]
  },
  {
   "cell_type": "code",
   "execution_count": 7,
   "metadata": {},
   "outputs": [
    {
     "data": {
      "text/plain": [
       "'1.24.1'"
      ]
     },
     "execution_count": 7,
     "metadata": {},
     "output_type": "execute_result"
    }
   ],
   "source": [
    "#in cmd : pip list  gives out the list of packeges and its version\n",
    "np. __version__\n"
   ]
  },
  {
   "cell_type": "markdown",
   "metadata": {},
   "source": [
    "Створити вектор з 10 елементів, заповнений одиницями:"
   ]
  },
  {
   "cell_type": "code",
   "execution_count": 8,
   "metadata": {},
   "outputs": [
    {
     "data": {
      "text/plain": [
       "array([1., 1., 1., 1., 1., 1., 1., 1., 1., 1.])"
      ]
     },
     "execution_count": 8,
     "metadata": {},
     "output_type": "execute_result"
    }
   ],
   "source": [
    "np.ones(10)"
   ]
  },
  {
   "cell_type": "markdown",
   "metadata": {},
   "source": [
    "Створити вектор із значеннями від 0 до 10:"
   ]
  },
  {
   "cell_type": "code",
   "execution_count": 11,
   "metadata": {},
   "outputs": [
    {
     "data": {
      "text/plain": [
       "array([ 0,  1,  2,  3,  4,  5,  6,  7,  8,  9, 10])"
      ]
     },
     "execution_count": 11,
     "metadata": {},
     "output_type": "execute_result"
    }
   ],
   "source": [
    "vector2=np.arange(0,11)\n",
    "vector2"
   ]
  },
  {
   "cell_type": "markdown",
   "metadata": {},
   "source": [
    "Створити матрицю 5 на 5, заповнену нулями:"
   ]
  },
  {
   "cell_type": "code",
   "execution_count": null,
   "metadata": {},
   "outputs": [],
   "source": [
    "np.matrix('0 0 0 0 0; 0 0 0 0 0; 0 0 0 0 0; 0 0 0 0 0')"
   ]
  },
  {
   "cell_type": "markdown",
   "metadata": {},
   "source": [
    "Заповнити вектор з 20 елементів випадковими цілими числами. Знайти індекси ненульових елементів:"
   ]
  },
  {
   "cell_type": "code",
   "execution_count": 17,
   "metadata": {},
   "outputs": [
    {
     "name": "stdout",
     "output_type": "stream",
     "text": [
      "[-1  0  9 -2  8 -5  2  8 -4  1  1 -3  9 -3 -1  8 -6 -2 -2  0]\n",
      "Indexes of non-zero entries: [0, 2, 3, 4, 5, 6, 7, 8, 9, 10, 11, 12, 13, 14, 15, 16, 17, 18]\n"
     ]
    }
   ],
   "source": [
    "import numpy as np\n",
    "r=np.random.randint(-10,10,20)\n",
    "print(r)\n",
    "count=[]\n",
    "for i in range(20):\n",
    "    if r[i]!=0:\n",
    "        count=count+[i]\n",
    "print(\"Indexes of non-zero entries:\",count)"
   ]
  },
  {
   "cell_type": "markdown",
   "metadata": {},
   "source": [
    "Для вектора із попередньої задачі знайти середнє значення, медіану, стандартне відхилення:"
   ]
  },
  {
   "cell_type": "code",
   "execution_count": 20,
   "metadata": {},
   "outputs": [
    {
     "data": {
      "text/plain": [
       "4.767336782733102"
      ]
     },
     "execution_count": 20,
     "metadata": {},
     "output_type": "execute_result"
    }
   ],
   "source": [
    "import statistics as stat\n",
    "stat.mean(r)\n",
    "stat.median(r)\n",
    "stat.variance(r)\n",
    "\n",
    "np.mean(r)\n",
    "np.median(r)\n",
    "np.std(r)"
   ]
  },
  {
   "cell_type": "markdown",
   "metadata": {},
   "source": [
    "Створити дві матриці випадкових чисел розміром 4х2 та 2х2. Перемножити їх:"
   ]
  },
  {
   "cell_type": "code",
   "execution_count": 28,
   "metadata": {},
   "outputs": [
    {
     "name": "stdout",
     "output_type": "stream",
     "text": [
      "[[0.42756412 0.18413999]\n",
      " [0.45983752 0.58577883]\n",
      " [0.47351309 0.59044736]\n",
      " [0.22053045 0.53708586]]\n",
      "[[0.42756412 0.18413999]\n",
      " [0.45983752 0.58577883]\n",
      " [0.47351309 0.59044736]\n",
      " [0.22053045 0.53708586]]\n"
     ]
    }
   ],
   "source": [
    "import numpy as np\n",
    "#m4na2=np.random.randint(10,size=(4,2))\n",
    "#m2na2=np.random.randint(10,size=(2,2))\n",
    "m4na2=np.random.random((4,2))\n",
    "m2na2=np.random.random((2,2))\n",
    "#matrix product\n",
    "print(np.dot(m4na2,m2na2))\n",
    "print(m4na2@m2na2)"
   ]
  },
  {
   "cell_type": "markdown",
   "metadata": {},
   "source": [
    "Результуючу матрицю із попередньої задачі перетворити у вектор. Знайти мінімальне та максимальне значення. \n",
    "\n",
    "Максимальне значення замінити на 0:"
   ]
  },
  {
   "cell_type": "code",
   "execution_count": 37,
   "metadata": {},
   "outputs": [
    {
     "name": "stdout",
     "output_type": "stream",
     "text": [
      "Matrix:  [[54 45]\n",
      " [20 24]\n",
      " [76 66]\n",
      " [94 93]]\n",
      "Flattened matrix:  [54 45 20 24 76 66 94 93]\n",
      "Max number 94 Min number 20\n"
     ]
    },
    {
     "data": {
      "text/plain": [
       "array([54, 45,  0, 24, 76, 66,  0, 93])"
      ]
     },
     "execution_count": 37,
     "metadata": {},
     "output_type": "execute_result"
    }
   ],
   "source": [
    "m4na2=np.random.randint(10,size=(4,2))\n",
    "m2na2=np.random.randint(10,size=(2,2))\n",
    "M = np.dot(m4na2,m2na2)\n",
    "arr = M.flatten()\n",
    "print(\"Matrix: \",M)\n",
    "print(\"Flattened matrix: \",arr)\n",
    "max=np.max(M)\n",
    "min=np.min(M)\n",
    "print(\"Max number\",max,\"Min number\",min)\n",
    "\n",
    "ind = (np.where((arr == min) | ((arr == max))))\n",
    "for i in ind:\n",
    "    arr[i] = 0\n",
    "#vector04[ind[1]] = 0\n",
    "arr"
   ]
  },
  {
   "cell_type": "markdown",
   "metadata": {},
   "source": [
    "Знайдіть кореляцію першого рядка матриці із попереднього завдання із іншими рядками:"
   ]
  },
  {
   "cell_type": "code",
   "execution_count": 45,
   "metadata": {},
   "outputs": [
    {
     "name": "stdout",
     "output_type": "stream",
     "text": [
      "[2160]\n",
      "[7074]\n",
      "[9261]\n"
     ]
    }
   ],
   "source": [
    "for i in range(1, 4):\n",
    "    print(np.correlate(M[0], M[i]))"
   ]
  },
  {
   "cell_type": "markdown",
   "metadata": {},
   "source": [
    "Дано матрицю. Знайти ранг матриці:"
   ]
  },
  {
   "cell_type": "code",
   "execution_count": 46,
   "metadata": {},
   "outputs": [
    {
     "name": "stdout",
     "output_type": "stream",
     "text": [
      "Rank of matrix:  3\n"
     ]
    }
   ],
   "source": [
    "a = np.array([[ 1,  4, 5],\n",
    "              [7, 3, 2],\n",
    "              [9, 16, 1]])\n",
    "print(\"Rank of matrix: \",np.linalg.matrix_rank(a))\n",
    "\n"
   ]
  },
  {
   "cell_type": "markdown",
   "metadata": {},
   "source": [
    "Знайти визначник матриці:"
   ]
  },
  {
   "cell_type": "code",
   "execution_count": 47,
   "metadata": {},
   "outputs": [
    {
     "name": "stdout",
     "output_type": "stream",
     "text": [
      "Determinant: 440.00\n"
     ]
    }
   ],
   "source": [
    "s=np.linalg.det(a)\n",
    "print(\"Determinant: %.2f\" % s)"
   ]
  },
  {
   "cell_type": "markdown",
   "metadata": {},
   "source": [
    "Знайти власні значення та власні вектори матриці: "
   ]
  },
  {
   "cell_type": "code",
   "execution_count": 48,
   "metadata": {},
   "outputs": [
    {
     "name": "stdout",
     "output_type": "stream",
     "text": [
      "E-value: [14.13520334+0.j         -4.56760167+3.20389947j -4.56760167-3.20389947j]\n",
      "E-vector [[ 0.43131913+0.j          0.31386258+0.47450898j  0.31386258-0.47450898j]\n",
      " [ 0.41502436+0.j          0.07049527-0.4090732j   0.07049527+0.4090732j ]\n",
      " [ 0.8010734 +0.j         -0.7099444 +0.j         -0.7099444 -0.j        ]]\n"
     ]
    }
   ],
   "source": [
    "import numpy as np\n",
    "from numpy.linalg import eig\n",
    "a = np.array([[ 1,  4, 5],\n",
    "              [7, 3, 2],\n",
    "              [9, 16, 1]])\n",
    "\n",
    "w,v=eig(a)\n",
    "print('E-value:', w)\n",
    "print('E-vector', v)"
   ]
  },
  {
   "cell_type": "markdown",
   "metadata": {},
   "source": [
    "Знайдіть число, що найчастіше зустрічається в масиві:"
   ]
  },
  {
   "cell_type": "code",
   "execution_count": 53,
   "metadata": {},
   "outputs": [
    {
     "name": "stdout",
     "output_type": "stream",
     "text": [
      "[3 9 6 8 3 2 4 9 8 0 8 1 5 4 0 8 0 9 1 3 2 3 3 6 9 0 0 4 6 5 4 4 4 9 1 1 5\n",
      " 9 0 3 8 4 2 4 1 8 5 4 4 0]\n",
      "4\n",
      "[7]\n"
     ]
    }
   ],
   "source": [
    "a = np.random.randint(0,10,50)\n",
    "print(a)\n",
    "print(np.bincount(a).argmax())\n",
    "\n",
    "\n",
    "a = np.random.randint(0,10,50)\n",
    "uniq, count = np.unique(a, return_counts = True)\n",
    "print (uniq[uniq == np.max(count)])"
   ]
  },
  {
   "cell_type": "markdown",
   "metadata": {},
   "source": [
    "Виведіть лише парні числа, що діляться на 5:"
   ]
  },
  {
   "cell_type": "code",
   "execution_count": 54,
   "metadata": {},
   "outputs": [
    {
     "name": "stdout",
     "output_type": "stream",
     "text": [
      "10\n",
      "0\n",
      "0\n",
      "30\n",
      "20\n"
     ]
    }
   ],
   "source": [
    "a = np.random.randint(0,51,50)\n",
    "for i in a:\n",
    "    if i%10==0:\n",
    "        print(i)\n"
   ]
  },
  {
   "cell_type": "markdown",
   "metadata": {},
   "source": [
    "Розв'яжіть систему рівнянь:\n",
    "$$2x + 5y = 1 $$\n",
    "\n",
    "$$x - 10y = 3  $$\n",
    "   "
   ]
  },
  {
   "cell_type": "code",
   "execution_count": 38,
   "metadata": {},
   "outputs": [
    {
     "name": "stdout",
     "output_type": "stream",
     "text": [
      "[[  2   5]\n",
      " [  1 -10]]\n",
      "[[ 0.4   0.2 ]\n",
      " [ 0.04 -0.08]]\n",
      "[ 1.  -0.2]\n"
     ]
    }
   ],
   "source": [
    "import numpy as np\n",
    "m_list=[[2,5],[1,-10]]\n",
    "A=np.array(m_list)\n",
    "print(A)\n",
    "inv_A=np.linalg.inv(A)\n",
    "print(inv_A)\n",
    "B=np.array([1,3])\n",
    "X=np.linalg.inv(A).dot(B)\n",
    "print(X)"
   ]
  },
  {
   "cell_type": "code",
   "execution_count": null,
   "metadata": {},
   "outputs": [],
   "source": []
  }
 ],
 "metadata": {
  "kernelspec": {
   "display_name": "Python 3 (ipykernel)",
   "language": "python",
   "name": "python3"
  },
  "language_info": {
   "codemirror_mode": {
    "name": "ipython",
    "version": 3
   },
   "file_extension": ".py",
   "mimetype": "text/x-python",
   "name": "python",
   "nbconvert_exporter": "python",
   "pygments_lexer": "ipython3",
   "version": "3.11.1"
  }
 },
 "nbformat": 4,
 "nbformat_minor": 2
}
