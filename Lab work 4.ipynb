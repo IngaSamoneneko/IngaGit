{
 "cells": [
  {
   "cell_type": "markdown",
   "metadata": {},
   "source": [
    "___\n",
    "\n",
    "<a href='https://mainacademy.ua/'> <img src='https://mainacademy.ua/wp-content/uploads/2019/03/logo-main.png' alt = 'Хмм, щось з інтернетом'/></a>\n",
    "___\n",
    "\n",
    "# Module 4: Work with data professionally!"
   ]
  },
  {
   "cell_type": "markdown",
   "metadata": {},
   "source": [
    "## Lab work 4\n",
    "\n"
   ]
  },
  {
   "cell_type": "markdown",
   "metadata": {},
   "source": [
    "#### Мета: \n",
    "\n",
    "* навчитися обробляти дані\n",
    "* \"парсити\" сайти"
   ]
  },
  {
   "cell_type": "markdown",
   "metadata": {},
   "source": [
    "### Завдання 1:"
   ]
  },
  {
   "cell_type": "markdown",
   "metadata": {},
   "source": [
    "#### Ознайомитися із API Національного банку \n",
    "https://old.bank.gov.ua/control/uk/publish/article?art_id=38441973&cat_id=38459171#exchange\n",
    "\n"
   ]
  },
  {
   "cell_type": "markdown",
   "metadata": {},
   "source": [
    "1. Підключитися до API.\n"
   ]
  },
  {
   "cell_type": "code",
   "execution_count": null,
   "metadata": {},
   "outputs": [],
   "source": [
    "import requests\n",
    "import json\n",
    "response_API = requests.get('https://bank.gov.ua/NBUStatService/v1/statdirectory/exchangenew?json?valcode=USD&date=20230103')\n",
    "print(response_API.status_code)"
   ]
  },
  {
   "cell_type": "markdown",
   "metadata": {},
   "source": [
    "2. Отримати курс долара за останній рік."
   ]
  },
  {
   "cell_type": "code",
   "execution_count": null,
   "metadata": {},
   "outputs": [],
   "source": [
    "import requests\n",
    "import json\n",
    "import pandas as pd\n",
    "from datetime import datetime, timedelta\n",
    "import statistics as stats\n",
    "\n",
    "url = \"http://bank.gov.ua/NBUStatService/v1/statdirectory/exchangenew?json\"\n",
    "\n",
    "response_API = requests.get(url)\n",
    "#print(response_API.status_code)\n",
    "\n",
    "data = response_API.text #helps us pull the data from the mentioned API.\n",
    "\n",
    "data_json=json.loads(data) #convert and decode the data into proper JSON format\n",
    "\n",
    "how_many_days = int(input('Enter number of days' ))\n",
    "date = datetime.today()\n",
    "\n",
    "rate=[]\n",
    "\n",
    "for j in range(how_many_days):\n",
    "    date = date - timedelta(days = 1)\n",
    "    date_for_req = {'date' : date.strftime(\"%Y%m%d\")}\n",
    "    data_json = requests.get(url, params = date_for_req).json()\n",
    "    for i in data_json:\n",
    "         for k in i.values():\n",
    "              if k=='USD':\n",
    "                  rate+=[i['rate']]\n",
    "                  print('The rate of US Dollar ', i['rate'], 'on ', i['exchangedate'])"
   ]
  },
  {
   "cell_type": "markdown",
   "metadata": {},
   "source": [
    "3. Вивести середнє значення та відхилення курсу за кожний місяць."
   ]
  },
  {
   "cell_type": "code",
   "execution_count": 8,
   "metadata": {},
   "outputs": [
    {
     "name": "stdout",
     "output_type": "stream",
     "text": [
      "Enter number of days7\n",
      "The avarage rate over the past 7 days is 36.5686 and the standard deviation is  0.0\n"
     ]
    }
   ],
   "source": [
    "import requests\n",
    "import json\n",
    "import pandas as pd\n",
    "from datetime import datetime, timedelta\n",
    "import statistics as stats\n",
    "\n",
    "url = \"http://bank.gov.ua/NBUStatService/v1/statdirectory/exchangenew?json\"\n",
    "\n",
    "response_API = requests.get(url)\n",
    "#print(response_API.status_code)\n",
    "\n",
    "data = response_API.text #helps us pull the data from the mentioned API.\n",
    "\n",
    "data_json=json.loads(data) #convert and decode the data into proper JSON format\n",
    "\n",
    "how_many_days = int(input('Enter number of days' ))\n",
    "date = datetime.today()\n",
    "\n",
    "rate=[]\n",
    "\n",
    "for j in range(how_many_days):\n",
    "    date = date - timedelta(days = 1)\n",
    "    date_for_req = {'date' : date.strftime(\"%Y%m%d\")}\n",
    "    data_json = requests.get(url, params = date_for_req).json()\n",
    "    for i in data_json:\n",
    "         for k in i.values():\n",
    "              if k=='USD':\n",
    "                  rate+=[i['rate']]\n",
    "                  #print('The rate of US Dollar ', i['rate'], 'on ', i['exchangedate'])\n",
    "\n",
    "print('The avarage rate over the past',how_many_days, 'days is %.2f'%stats.mean(rate), 'and the standard deviation is %.2f'%stats.variance(rate))    \n"
   ]
  },
  {
   "cell_type": "markdown",
   "metadata": {},
   "source": [
    "4. Дану інформацію записати у файл за допомогою pickle."
   ]
  },
  {
   "cell_type": "code",
   "execution_count": null,
   "metadata": {},
   "outputs": [],
   "source": [
    "import pickle\n",
    "file=open('US Rates.py','wb')\n",
    "pickle.dump(rate,file)\n",
    "file.close()"
   ]
  },
  {
   "cell_type": "markdown",
   "metadata": {},
   "source": [
    "### Завдання 2:"
   ]
  },
  {
   "cell_type": "markdown",
   "metadata": {},
   "source": [
    "Потрібно проаналізувати всі товари на сайті: \n",
    "https://smallpacking.agrosem.ua/shop/"
   ]
  },
  {
   "cell_type": "markdown",
   "metadata": {},
   "source": [
    "Створіть базу даних, що містить таблицю із такими стовбцями: \n",
    "    - артикул товару\n",
    "    - найменування\n",
    "    - ціна \n",
    "    - вага"
   ]
  },
  {
   "cell_type": "code",
   "execution_count": null,
   "metadata": {},
   "outputs": [],
   "source": [
    "import requests\n",
    "import json\n",
    "import pandas as pd\n",
    "from datetime import datetime, timedelta\n",
    "import statistics as stats\n",
    "\n",
    "from bs4 import BeautifulSoup as bs\n",
    "\n",
    "url='https://smallpacking.agrosem.ua/products'\n",
    "price=[]\n",
    "product=[]\n",
    "for i in [1,2,3,4,5]:\n",
    "    i=str(i)\n",
    "    url='https://smallpacking.agrosem.ua/products/?page='+i\n",
    "    print(url)\n",
    "    response= requests.get(url)\n",
    "    #print(response.status_code)\n",
    "    soup = bs(response.content,'html.parser')\n",
    "    rev_price=soup.findAll(\"div\",attrs={\"class\",\"order\"})\n",
    "    rev_prod=soup.findAll(\"div\",attrs={\"class\",\"info\"})\n",
    "    for j in range(len(rev_price)):#extracts the price\n",
    "         price.append(rev_price[j].find('p').text)\n",
    "    for j in range(len(rev_prod)-1):#extracts the product name\n",
    "      product.append(rev_prod[j].find('a').text)    \n",
    "\n",
    "\n",
    "int=[]\n",
    "for j in range(len(product)):\n",
    "    int+=[s for s in product[j].split() if s.isdigit()]\n",
    "\n",
    "\n",
    "\n",
    "#create a table in python\n",
    "data={'Product': product, 'Weight (kg)' : int, 'Price' : price}\n",
    "df=pd.DataFrame(data=data)\n",
    "\n",
    "df\n"
   ]
  },
  {
   "cell_type": "markdown",
   "metadata": {},
   "source": [
    "### Завдання 3: "
   ]
  },
  {
   "cell_type": "markdown",
   "metadata": {},
   "source": [
    "Ознайомтеся із роботою SQLite та відповідним модулем у Python.\n",
    "Завантажте базу даних для виконання лабораторної роботи.\n",
    "Підключіться до завантаженої бази SQLite."
   ]
  },
  {
   "cell_type": "markdown",
   "metadata": {},
   "source": [
    "1. Виведіть інформацію про дану базу."
   ]
  },
  {
   "cell_type": "code",
   "execution_count": 110,
   "metadata": {},
   "outputs": [
    {
     "data": {
      "text/plain": [
       "<sqlite3.Connection at 0x1c4768bbb50>"
      ]
     },
     "execution_count": 110,
     "metadata": {},
     "output_type": "execute_result"
    }
   ],
   "source": [
    "import sqlite3\n",
    "import pandas as pd\n",
    "conn=sqlite3.connect(\"tysql.sqlite\")\n",
    "conn"
   ]
  },
  {
   "cell_type": "markdown",
   "metadata": {},
   "source": [
    "2. Виведіть перелік всіх таблиць."
   ]
  },
  {
   "cell_type": "code",
   "execution_count": 111,
   "metadata": {},
   "outputs": [
    {
     "name": "stdout",
     "output_type": "stream",
     "text": [
      "{'Customers':       cust_id      cust_name          cust_address cust_city cust_state  \\\n",
      "0  1000000001   Village Toys        200 Maple Lane   Detroit         MI   \n",
      "1  1000000002     Kids Place  333 South Lake Drive  Columbus         OH   \n",
      "2  1000000003        Fun4All         1 Sunny Place    Muncie         IN   \n",
      "3  1000000004        Fun4All   829 Riverside Drive   Phoenix         AZ   \n",
      "4  1000000005  The Toy Store      4545 53rd Street   Chicago         IL   \n",
      "\n",
      "  cust_zip cust_country        cust_contact             cust_email  \n",
      "0    44444          USA          John Smith  sales@villagetoys.com  \n",
      "1    43333          USA      Michelle Green                   None  \n",
      "2    42222          USA           Jim Jones     jjones@fun4all.com  \n",
      "3    88888          USA  Denise L. Stephens  dstephens@fun4all.com  \n",
      "4    54545          USA          Kim Howard                   None  , 'OrderItems':     order_num  order_item prod_id  quantity  item_price\n",
      "0       20005           1    BR01       100        5.49\n",
      "1       20005           2    BR03       100       10.99\n",
      "2       20006           1    BR01        20        5.99\n",
      "3       20006           2    BR02        10        8.99\n",
      "4       20006           3    BR03        10       11.99\n",
      "5       20007           1    BR03        50       11.49\n",
      "6       20007           2  BNBG01       100        2.99\n",
      "7       20007           3  BNBG02       100        2.99\n",
      "8       20007           4  BNBG03       100        2.99\n",
      "9       20007           5  RGAN01        50        4.49\n",
      "10      20008           1  RGAN01         5        4.99\n",
      "11      20008           2    BR03         5       11.99\n",
      "12      20008           3  BNBG01        10        3.49\n",
      "13      20008           4  BNBG02        10        3.49\n",
      "14      20008           5  BNBG03        10        3.49\n",
      "15      20009           1  BNBG01       250        2.49\n",
      "16      20009           2  BNBG02       250        2.49\n",
      "17      20009           3  BNBG03       250        2.49, 'Orders':    order_num  order_date     cust_id\n",
      "0      20005  2012-05-01  1000000001\n",
      "1      20006  2012-01-12  1000000003\n",
      "2      20007  2012-01-30  1000000004\n",
      "3      20008  2012-02-03  1000000005\n",
      "4      20009  2012-02-08  1000000001, 'Products':   prod_id vend_id            prod_name  prod_price  \\\n",
      "0    BR01   BRS01    8 inch teddy bear        5.99   \n",
      "1    BR02   BRS01   12 inch teddy bear        8.99   \n",
      "2    BR03   BRS01   18 inch teddy bear       11.99   \n",
      "3  BNBG01   DLL01    Fish bean bag toy        3.49   \n",
      "4  BNBG02   DLL01    Bird bean bag toy        3.49   \n",
      "5  BNBG03   DLL01  Rabbit bean bag toy        3.49   \n",
      "6  RGAN01   DLL01          Raggedy Ann        4.99   \n",
      "7   RYL01   FNG01            King doll        9.49   \n",
      "8   RYL02   FNG01           Queen doll        9.49   \n",
      "\n",
      "                                           prod_desc  \n",
      "0       8 inch teddy bear, comes with cap and jacket  \n",
      "1      12 inch teddy bear, comes with cap and jacket  \n",
      "2      18 inch teddy bear, comes with cap and jacket  \n",
      "3  Fish bean bag toy, complete with bean bag worm...  \n",
      "4           Bird bean bag toy, eggs are not included  \n",
      "5   Rabbit bean bag toy, comes with bean bag carrots  \n",
      "6                           18 inch Raggedy Ann doll  \n",
      "7    12 inch king doll with royal garments and crown  \n",
      "8   12 inch queen doll with royal garments and crown  , 'Vendors':   vend_id        vend_name     vend_address   vend_city vend_state vend_zip  \\\n",
      "0   BRS01       Bears R Us  123 Main Street   Bear Town         MI    44444   \n",
      "1   BRE02    Bear Emporium  500 Park Street     Anytown         OH    44333   \n",
      "2   DLL01  Doll House Inc.  555 High Street  Dollsville         CA    99999   \n",
      "3   FRB01     Furball Inc.  1000 5th Avenue    New York         NY    11111   \n",
      "4   FNG01    Fun and Games   42 Galaxy Road      London       None  N16 6PS   \n",
      "5   JTS01   Jouets et ours  1 Rue Amusement       Paris       None    45678   \n",
      "\n",
      "  vend_country  \n",
      "0          USA  \n",
      "1          USA  \n",
      "2          USA  \n",
      "3          USA  \n",
      "4      England  \n",
      "5       France  }\n"
     ]
    }
   ],
   "source": [
    "from pandas import read_sql_query, read_sql_table\n",
    "tables = list(read_sql_query(\"SELECT name FROM sqlite_master WHERE type='table';\", conn)['name'])\n",
    "out = {tbl : read_sql_query(f\"SELECT * from {tbl}\", conn) for tbl in tables}\n",
    "print(out)"
   ]
  },
  {
   "cell_type": "markdown",
   "metadata": {},
   "source": [
    "3. Список всіх cust_id з таблиці Customers table."
   ]
  },
  {
   "cell_type": "code",
   "execution_count": 8,
   "metadata": {},
   "outputs": [
    {
     "data": {
      "text/plain": [
       "0    1000000001\n",
       "1    1000000002\n",
       "2    1000000003\n",
       "3    1000000004\n",
       "4    1000000005\n",
       "Name: cust_id, dtype: object"
      ]
     },
     "execution_count": 8,
     "metadata": {},
     "output_type": "execute_result"
    }
   ],
   "source": [
    "report_customer_table=out[\"Customers\"]\n",
    "report_customer_table.loc[:,\"cust_id\"]"
   ]
  },
  {
   "cell_type": "markdown",
   "metadata": {},
   "source": [
    "4. Всю таблицю Customers table"
   ]
  },
  {
   "cell_type": "code",
   "execution_count": 9,
   "metadata": {},
   "outputs": [
    {
     "name": "stdout",
     "output_type": "stream",
     "text": [
      "      cust_id      cust_name          cust_address cust_city cust_state  \\\n",
      "0  1000000001   Village Toys        200 Maple Lane   Detroit         MI   \n",
      "1  1000000002     Kids Place  333 South Lake Drive  Columbus         OH   \n",
      "2  1000000003        Fun4All         1 Sunny Place    Muncie         IN   \n",
      "3  1000000004        Fun4All   829 Riverside Drive   Phoenix         AZ   \n",
      "4  1000000005  The Toy Store      4545 53rd Street   Chicago         IL   \n",
      "\n",
      "  cust_zip cust_country        cust_contact             cust_email  \n",
      "0    44444          USA          John Smith  sales@villagetoys.com  \n",
      "1    43333          USA      Michelle Green                   None  \n",
      "2    42222          USA           Jim Jones     jjones@fun4all.com  \n",
      "3    88888          USA  Denise L. Stephens  dstephens@fun4all.com  \n",
      "4    54545          USA          Kim Howard                   None  \n"
     ]
    }
   ],
   "source": [
    "print(out[\"Customers\"])"
   ]
  },
  {
   "cell_type": "markdown",
   "metadata": {},
   "source": [
    "5. Список клієнтів (cust_names) відсортованих від Z до A"
   ]
  },
  {
   "cell_type": "code",
   "execution_count": 10,
   "metadata": {},
   "outputs": [
    {
     "data": {
      "text/plain": [
       "['Village Toys', 'The Toy Store', 'Kids Place', 'Fun4All', 'Fun4All']"
      ]
     },
     "execution_count": 10,
     "metadata": {},
     "output_type": "execute_result"
    }
   ],
   "source": [
    "sorted(report_customer_table.loc[:,\"cust_name\"],reverse=True)"
   ]
  },
  {
   "cell_type": "markdown",
   "metadata": {},
   "source": [
    "6. Таблицю клієнтів та замовлень (cust_id і order_num) . Відсортуйте по клієнту і потім по даті замовлення"
   ]
  },
  {
   "cell_type": "code",
   "execution_count": 16,
   "metadata": {},
   "outputs": [
    {
     "name": "stdout",
     "output_type": "stream",
     "text": [
      "Customers and their Orders \n",
      "   Customers ID  Order Number\n",
      "0   1000000001         20005\n",
      "1   1000000002         20006\n",
      "2   1000000003         20007\n",
      "3   1000000004         20008\n",
      "4   1000000005         20009\n"
     ]
    }
   ],
   "source": [
    "l=list(report_customer_table.loc[:,\"cust_id\"])\n",
    "ll=list(report_order_table.loc[:,\"order_num\"])\n",
    "df=pd.DataFrame({\"Customers ID\":l,\"Order Number\":ll})\n",
    "print(\"Customers and their Orders \\n\",df)\n"
   ]
  },
  {
   "cell_type": "markdown",
   "metadata": {},
   "source": [
    "7. Таблицю (на основі Items) з кількість та вартістю товару. Відсортуйте в порядку спадання по кількості та вартості"
   ]
  },
  {
   "cell_type": "code",
   "execution_count": 27,
   "metadata": {},
   "outputs": [
    {
     "name": "stdout",
     "output_type": "stream",
     "text": [
      "Sort by quantity\n",
      "     Quantity of Product  Price\n",
      "11                    5  11.99\n",
      "10                    5   4.99\n",
      "14                   10   3.49\n",
      "3                    10   8.99\n",
      "4                    10  11.99\n",
      "13                   10   3.49\n",
      "12                   10   3.49\n",
      "2                    20   5.99\n",
      "5                    50  11.49\n",
      "9                    50   4.49\n",
      "0                   100   5.49\n",
      "8                   100   2.99\n",
      "7                   100   2.99\n",
      "6                   100   2.99\n",
      "1                   100  10.99\n",
      "15                  250   2.49\n",
      "16                  250   2.49\n",
      "17                  250   2.49\n",
      "\n",
      "Sort by price \n"
     ]
    },
    {
     "data": {
      "text/html": [
       "<div>\n",
       "<style scoped>\n",
       "    .dataframe tbody tr th:only-of-type {\n",
       "        vertical-align: middle;\n",
       "    }\n",
       "\n",
       "    .dataframe tbody tr th {\n",
       "        vertical-align: top;\n",
       "    }\n",
       "\n",
       "    .dataframe thead th {\n",
       "        text-align: right;\n",
       "    }\n",
       "</style>\n",
       "<table border=\"1\" class=\"dataframe\">\n",
       "  <thead>\n",
       "    <tr style=\"text-align: right;\">\n",
       "      <th></th>\n",
       "      <th>Quantity of Product</th>\n",
       "      <th>Price</th>\n",
       "    </tr>\n",
       "  </thead>\n",
       "  <tbody>\n",
       "    <tr>\n",
       "      <th>17</th>\n",
       "      <td>250</td>\n",
       "      <td>2.49</td>\n",
       "    </tr>\n",
       "    <tr>\n",
       "      <th>15</th>\n",
       "      <td>250</td>\n",
       "      <td>2.49</td>\n",
       "    </tr>\n",
       "    <tr>\n",
       "      <th>16</th>\n",
       "      <td>250</td>\n",
       "      <td>2.49</td>\n",
       "    </tr>\n",
       "    <tr>\n",
       "      <th>7</th>\n",
       "      <td>100</td>\n",
       "      <td>2.99</td>\n",
       "    </tr>\n",
       "    <tr>\n",
       "      <th>6</th>\n",
       "      <td>100</td>\n",
       "      <td>2.99</td>\n",
       "    </tr>\n",
       "    <tr>\n",
       "      <th>8</th>\n",
       "      <td>100</td>\n",
       "      <td>2.99</td>\n",
       "    </tr>\n",
       "    <tr>\n",
       "      <th>12</th>\n",
       "      <td>10</td>\n",
       "      <td>3.49</td>\n",
       "    </tr>\n",
       "    <tr>\n",
       "      <th>13</th>\n",
       "      <td>10</td>\n",
       "      <td>3.49</td>\n",
       "    </tr>\n",
       "    <tr>\n",
       "      <th>14</th>\n",
       "      <td>10</td>\n",
       "      <td>3.49</td>\n",
       "    </tr>\n",
       "    <tr>\n",
       "      <th>9</th>\n",
       "      <td>50</td>\n",
       "      <td>4.49</td>\n",
       "    </tr>\n",
       "    <tr>\n",
       "      <th>10</th>\n",
       "      <td>5</td>\n",
       "      <td>4.99</td>\n",
       "    </tr>\n",
       "    <tr>\n",
       "      <th>0</th>\n",
       "      <td>100</td>\n",
       "      <td>5.49</td>\n",
       "    </tr>\n",
       "    <tr>\n",
       "      <th>2</th>\n",
       "      <td>20</td>\n",
       "      <td>5.99</td>\n",
       "    </tr>\n",
       "    <tr>\n",
       "      <th>3</th>\n",
       "      <td>10</td>\n",
       "      <td>8.99</td>\n",
       "    </tr>\n",
       "    <tr>\n",
       "      <th>1</th>\n",
       "      <td>100</td>\n",
       "      <td>10.99</td>\n",
       "    </tr>\n",
       "    <tr>\n",
       "      <th>5</th>\n",
       "      <td>50</td>\n",
       "      <td>11.49</td>\n",
       "    </tr>\n",
       "    <tr>\n",
       "      <th>4</th>\n",
       "      <td>10</td>\n",
       "      <td>11.99</td>\n",
       "    </tr>\n",
       "    <tr>\n",
       "      <th>11</th>\n",
       "      <td>5</td>\n",
       "      <td>11.99</td>\n",
       "    </tr>\n",
       "  </tbody>\n",
       "</table>\n",
       "</div>"
      ],
      "text/plain": [
       "    Quantity of Product  Price\n",
       "17                  250   2.49\n",
       "15                  250   2.49\n",
       "16                  250   2.49\n",
       "7                   100   2.99\n",
       "6                   100   2.99\n",
       "8                   100   2.99\n",
       "12                   10   3.49\n",
       "13                   10   3.49\n",
       "14                   10   3.49\n",
       "9                    50   4.49\n",
       "10                    5   4.99\n",
       "0                   100   5.49\n",
       "2                    20   5.99\n",
       "3                    10   8.99\n",
       "1                   100  10.99\n",
       "5                    50  11.49\n",
       "4                    10  11.99\n",
       "11                    5  11.99"
      ]
     },
     "execution_count": 27,
     "metadata": {},
     "output_type": "execute_result"
    }
   ],
   "source": [
    "record_orderitems_table=out[\"OrderItems\"]\n",
    "l=list(record_orderitems_table.loc[:,\"quantity\"])\n",
    "ll=list(record_orderitems_table.loc[:,\"item_price\"])\n",
    "#sorted(report_customer_table.loc[:,\"cust_name\"],reverse=True)\n",
    "df=pd.DataFrame({\"Quantity of Product\":l,\"Price\":ll})\n",
    "\n",
    "dfq=df.sort_values(by=['Quantity of Product'])\n",
    "print('Sort by quantity\\n',dfq)\n",
    "\n",
    "dfp=df.sort_values(by=['Price'])\n",
    "print('\\nSort by price ')\n",
    "dfp"
   ]
  },
  {
   "cell_type": "markdown",
   "metadata": {},
   "source": [
    "8. Товар (з таблиці Products), ціна якого становить 9.49"
   ]
  },
  {
   "cell_type": "code",
   "execution_count": 28,
   "metadata": {},
   "outputs": [
    {
     "data": {
      "text/plain": [
       "7     King doll\n",
       "8    Queen doll\n",
       "Name: prod_name, dtype: object"
      ]
     },
     "execution_count": 28,
     "metadata": {},
     "output_type": "execute_result"
    }
   ],
   "source": [
    "record_product_table=out[\"Products\"]\n",
    "product_name = record_product_table.loc[record_product_table[\"prod_price\"]==9.49][\"prod_name\"]\n",
    "product_name"
   ]
  },
  {
   "cell_type": "markdown",
   "metadata": {},
   "source": [
    "9. Виведіть назву товару та ціну, яка лежить в діапазоні від  3 до 6. Відсортуйте результат в по ціні в порядку зростання"
   ]
  },
  {
   "cell_type": "code",
   "execution_count": 29,
   "metadata": {},
   "outputs": [
    {
     "data": {
      "text/plain": [
       "0      8 inch teddy bear\n",
       "3      Fish bean bag toy\n",
       "4      Bird bean bag toy\n",
       "5    Rabbit bean bag toy\n",
       "6            Raggedy Ann\n",
       "Name: prod_name, dtype: object"
      ]
     },
     "execution_count": 29,
     "metadata": {},
     "output_type": "execute_result"
    }
   ],
   "source": [
    "value9 = record_product_table.loc[record_product_table[\"prod_price\"].between(3,6)][\"prod_name\"]\n",
    "value9"
   ]
  },
  {
   "cell_type": "markdown",
   "metadata": {},
   "source": [
    "10. Кількість товару, що було продано"
   ]
  },
  {
   "cell_type": "code",
   "execution_count": 30,
   "metadata": {},
   "outputs": [
    {
     "name": "stdout",
     "output_type": "stream",
     "text": [
      "The total amound of sold items:  1430\n"
     ]
    }
   ],
   "source": [
    "#l=list(record_orderitems_table.loc[:,\"quantity\"])\n",
    "print(\"The total amound of sold items: \", sum(l))"
   ]
  },
  {
   "cell_type": "markdown",
   "metadata": {},
   "source": [
    "11. Кількість найменувань товару, ціна якого більша за 4"
   ]
  },
  {
   "cell_type": "code",
   "execution_count": 95,
   "metadata": {},
   "outputs": [
    {
     "data": {
      "text/plain": [
       "6"
      ]
     },
     "execution_count": 95,
     "metadata": {},
     "output_type": "execute_result"
    }
   ],
   "source": [
    "len(record_product_table.loc[record_product_table[\"prod_price\"]>4][\"prod_name\"])\n"
   ]
  },
  {
   "cell_type": "markdown",
   "metadata": {},
   "source": [
    "12. Розробіть алгоритм для виведення 3 найдорожчих товарів в базі"
   ]
  },
  {
   "cell_type": "code",
   "execution_count": 28,
   "metadata": {},
   "outputs": [
    {
     "data": {
      "text/html": [
       "<div>\n",
       "<style scoped>\n",
       "    .dataframe tbody tr th:only-of-type {\n",
       "        vertical-align: middle;\n",
       "    }\n",
       "\n",
       "    .dataframe tbody tr th {\n",
       "        vertical-align: top;\n",
       "    }\n",
       "\n",
       "    .dataframe thead th {\n",
       "        text-align: right;\n",
       "    }\n",
       "</style>\n",
       "<table border=\"1\" class=\"dataframe\">\n",
       "  <thead>\n",
       "    <tr style=\"text-align: right;\">\n",
       "      <th></th>\n",
       "      <th>prod_id</th>\n",
       "      <th>vend_id</th>\n",
       "      <th>prod_name</th>\n",
       "      <th>prod_price</th>\n",
       "      <th>prod_desc</th>\n",
       "    </tr>\n",
       "  </thead>\n",
       "  <tbody>\n",
       "    <tr>\n",
       "      <th>2</th>\n",
       "      <td>BR03</td>\n",
       "      <td>BRS01</td>\n",
       "      <td>18 inch teddy bear</td>\n",
       "      <td>11.99</td>\n",
       "      <td>18 inch teddy bear, comes with cap and jacket</td>\n",
       "    </tr>\n",
       "    <tr>\n",
       "      <th>7</th>\n",
       "      <td>RYL01</td>\n",
       "      <td>FNG01</td>\n",
       "      <td>King doll</td>\n",
       "      <td>9.49</td>\n",
       "      <td>12 inch king doll with royal garments and crown</td>\n",
       "    </tr>\n",
       "    <tr>\n",
       "      <th>8</th>\n",
       "      <td>RYL02</td>\n",
       "      <td>FNG01</td>\n",
       "      <td>Queen doll</td>\n",
       "      <td>9.49</td>\n",
       "      <td>12 inch queen doll with royal garments and crown</td>\n",
       "    </tr>\n",
       "  </tbody>\n",
       "</table>\n",
       "</div>"
      ],
      "text/plain": [
       "  prod_id vend_id           prod_name  prod_price  \\\n",
       "2    BR03   BRS01  18 inch teddy bear       11.99   \n",
       "7   RYL01   FNG01           King doll        9.49   \n",
       "8   RYL02   FNG01          Queen doll        9.49   \n",
       "\n",
       "                                          prod_desc  \n",
       "2     18 inch teddy bear, comes with cap and jacket  \n",
       "7   12 inch king doll with royal garments and crown  \n",
       "8  12 inch queen doll with royal garments and crown  "
      ]
     },
     "execution_count": 28,
     "metadata": {},
     "output_type": "execute_result"
    }
   ],
   "source": [
    "record_product_table.sort_values([\"prod_price\"],ascending=False)[:3]\n",
    "                                                                "
   ]
  },
  {
   "cell_type": "markdown",
   "metadata": {},
   "source": [
    "13. Підрахуйте кількість замовлень для кожного клієнта використовуючи підзапити"
   ]
  },
  {
   "cell_type": "code",
   "execution_count": 87,
   "metadata": {},
   "outputs": [
    {
     "data": {
      "text/html": [
       "<div>\n",
       "<style scoped>\n",
       "    .dataframe tbody tr th:only-of-type {\n",
       "        vertical-align: middle;\n",
       "    }\n",
       "\n",
       "    .dataframe tbody tr th {\n",
       "        vertical-align: top;\n",
       "    }\n",
       "\n",
       "    .dataframe thead th {\n",
       "        text-align: right;\n",
       "    }\n",
       "</style>\n",
       "<table border=\"1\" class=\"dataframe\">\n",
       "  <thead>\n",
       "    <tr style=\"text-align: right;\">\n",
       "      <th></th>\n",
       "      <th>Customer ID</th>\n",
       "      <th>Number of purchases</th>\n",
       "    </tr>\n",
       "  </thead>\n",
       "  <tbody>\n",
       "    <tr>\n",
       "      <th>0</th>\n",
       "      <td>1000000001</td>\n",
       "      <td>200</td>\n",
       "    </tr>\n",
       "    <tr>\n",
       "      <th>1</th>\n",
       "      <td>1000000003</td>\n",
       "      <td>40</td>\n",
       "    </tr>\n",
       "    <tr>\n",
       "      <th>2</th>\n",
       "      <td>1000000004</td>\n",
       "      <td>400</td>\n",
       "    </tr>\n",
       "    <tr>\n",
       "      <th>3</th>\n",
       "      <td>1000000005</td>\n",
       "      <td>40</td>\n",
       "    </tr>\n",
       "    <tr>\n",
       "      <th>4</th>\n",
       "      <td>1000000001</td>\n",
       "      <td>750</td>\n",
       "    </tr>\n",
       "  </tbody>\n",
       "</table>\n",
       "</div>"
      ],
      "text/plain": [
       "  Customer ID  Number of purchases\n",
       "0  1000000001                  200\n",
       "1  1000000003                   40\n",
       "2  1000000004                  400\n",
       "3  1000000005                   40\n",
       "4  1000000001                  750"
      ]
     },
     "execution_count": 87,
     "metadata": {},
     "output_type": "execute_result"
    }
   ],
   "source": [
    "k=list(record_orderitems_table.loc[:,\"order_num\"])\n",
    "kk=list(record_orderitems_table.loc[:,\"quantity\"])\n",
    "dd=pd.DataFrame({\"ord\":k, \"total\":kk})\n",
    "t=dd.groupby(['ord']).sum()\n",
    "t=list(t.loc[:,'total'])\n",
    "\n",
    "df=pd.DataFrame({'Customer ID': l,'Number of purchases': t})\n",
    "df"
   ]
  },
  {
   "cell_type": "markdown",
   "metadata": {},
   "source": [
    "14. Виведіть список клієнтів та їх замовлення (використайте JOIN)"
   ]
  },
  {
   "cell_type": "code",
   "execution_count": 93,
   "metadata": {},
   "outputs": [
    {
     "data": {
      "text/html": [
       "<div>\n",
       "<style scoped>\n",
       "    .dataframe tbody tr th:only-of-type {\n",
       "        vertical-align: middle;\n",
       "    }\n",
       "\n",
       "    .dataframe tbody tr th {\n",
       "        vertical-align: top;\n",
       "    }\n",
       "\n",
       "    .dataframe thead th {\n",
       "        text-align: right;\n",
       "    }\n",
       "</style>\n",
       "<table border=\"1\" class=\"dataframe\">\n",
       "  <thead>\n",
       "    <tr style=\"text-align: right;\">\n",
       "      <th></th>\n",
       "      <th>Customer ID</th>\n",
       "      <th>Purchased Items</th>\n",
       "    </tr>\n",
       "  </thead>\n",
       "  <tbody>\n",
       "    <tr>\n",
       "      <th>0</th>\n",
       "      <td>1000000001</td>\n",
       "      <td>BR01,BR03</td>\n",
       "    </tr>\n",
       "    <tr>\n",
       "      <th>1</th>\n",
       "      <td>1000000003</td>\n",
       "      <td>BR01,BR02,BR03</td>\n",
       "    </tr>\n",
       "    <tr>\n",
       "      <th>2</th>\n",
       "      <td>1000000004</td>\n",
       "      <td>BR03,BNBG01,BNBG02,BNBG03,RGAN01</td>\n",
       "    </tr>\n",
       "    <tr>\n",
       "      <th>3</th>\n",
       "      <td>1000000005</td>\n",
       "      <td>RGAN01,BR03,BNBG01,BNBG02,BNBG03</td>\n",
       "    </tr>\n",
       "    <tr>\n",
       "      <th>4</th>\n",
       "      <td>1000000001</td>\n",
       "      <td>BNBG01,BNBG02,BNBG03</td>\n",
       "    </tr>\n",
       "  </tbody>\n",
       "</table>\n",
       "</div>"
      ],
      "text/plain": [
       "  Customer ID                   Purchased Items\n",
       "0  1000000001                         BR01,BR03\n",
       "1  1000000003                    BR01,BR02,BR03\n",
       "2  1000000004  BR03,BNBG01,BNBG02,BNBG03,RGAN01\n",
       "3  1000000005  RGAN01,BR03,BNBG01,BNBG02,BNBG03\n",
       "4  1000000001              BNBG01,BNBG02,BNBG03"
      ]
     },
     "execution_count": 93,
     "metadata": {},
     "output_type": "execute_result"
    }
   ],
   "source": [
    "k=list(record_orderitems_table.loc[:,\"order_num\"])\n",
    "kk=list(record_orderitems_table.loc[:,\"prod_id\"])\n",
    "dd=pd.DataFrame({\"ord\":k, \"total\":kk})\n",
    "\n",
    "dfb = dd.groupby(['ord']).agg(','.join)\n",
    "\n",
    "tt=list(dfb.loc[:,'total'])\n",
    "df=pd.DataFrame({'Customer ID': l,'Purchased Items': tt})\n",
    "df"
   ]
  },
  {
   "cell_type": "markdown",
   "metadata": {},
   "source": [
    "15. Зробіть два запити: список товарів, ціна яких менша 5 та список товарів, ціна який більша рівна 5. Використайте UNION для об'єднання цих запитів"
   ]
  },
  {
   "cell_type": "code",
   "execution_count": 109,
   "metadata": {},
   "outputs": [
    {
     "name": "stdout",
     "output_type": "stream",
     "text": [
      "{'8 inch teddy bear', 'Fish bean bag toy', 'Rabbit bean bag toy', '18 inch teddy bear', 'Queen doll', 'Raggedy Ann', '12 inch teddy bear', 'King doll', 'Bird bean bag toy'}\n"
     ]
    }
   ],
   "source": [
    "a1=set(record_product_table.loc[record_product_table[\"prod_price\"]<5][\"prod_name\"])\n",
    "a2=set(record_product_table.loc[record_product_table[\"prod_price\"]>=5][\"prod_name\"])\n",
    "#print(\"Price is less than 5 and price is greater than 5 \", a1.union(a2))\n",
    "print(a1.union(a2))\n"
   ]
  },
  {
   "cell_type": "markdown",
   "metadata": {},
   "source": [
    "### Завдання 4: "
   ]
  },
  {
   "cell_type": "markdown",
   "metadata": {},
   "source": [
    "Зареєструйтеся на сайті  http://www.sql-ex.ru/\n",
    "\n",
    "Виконайте завдання із блоку SELECT; з 1 по 30 завдання\n",
    "\n",
    "Код запитів вставляйте сюди\n"
   ]
  },
  {
   "cell_type": "code",
   "execution_count": null,
   "metadata": {},
   "outputs": [],
   "source": [
    "#do not attemp"
   ]
  }
 ],
 "metadata": {
  "kernelspec": {
   "display_name": "Python 3 (ipykernel)",
   "language": "python",
   "name": "python3"
  },
  "language_info": {
   "codemirror_mode": {
    "name": "ipython",
    "version": 3
   },
   "file_extension": ".py",
   "mimetype": "text/x-python",
   "name": "python",
   "nbconvert_exporter": "python",
   "pygments_lexer": "ipython3",
   "version": "3.11.1"
  }
 },
 "nbformat": 4,
 "nbformat_minor": 2
}
